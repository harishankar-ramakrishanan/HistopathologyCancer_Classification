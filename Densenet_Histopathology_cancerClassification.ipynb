{
  "nbformat": 4,
  "nbformat_minor": 0,
  "metadata": {
    "colab": {
      "provenance": []
    },
    "kernelspec": {
      "name": "python3",
      "display_name": "Python 3"
    },
    "language_info": {
      "name": "python"
    }
  },
  "cells": [
    {
      "cell_type": "code",
      "execution_count": null,
      "metadata": {
        "id": "6rH98KNGdus3"
      },
      "outputs": [],
      "source": [
        "import pandas as pd\n",
        "import numpy as np\n",
        "import os\n",
        "from glob import glob\n",
        "import random\n",
        "import matplotlib.pylab as plt\n",
        "import keras.backend as K\n",
        "from sklearn.model_selection import train_test_split\n",
        "import tensorflow as tf\n",
        "import keras\n",
        "from keras.utils.np_utils import to_categorical\n",
        "from keras.models import Sequential\n",
        "from tensorflow.keras.optimizers import SGD, RMSprop, Adam, Adagrad, Adadelta\n",
        "from keras.layers import Dense, Dropout, Activation, Flatten, BatchNormalization, Conv2D, MaxPool2D, MaxPooling2D\n",
        "from tensorflow.keras.callbacks import ReduceLROnPlateau, ModelCheckpoint, EarlyStopping\n",
        "from tensorflow.keras.applications import VGG16\n",
        "%matplotlib inline"
      ]
    },
    {
      "cell_type": "code",
      "source": [
        "# Detect hardware, return appropriate distribution strategy\n",
        "try:\n",
        "    tpu = tf.distribute.cluster_resolver.TPUClusterResolver()\n",
        "    print('Running on TPU ', tpu.master())\n",
        "except ValueError:\n",
        "    tpu = None\n",
        "\n",
        "if tpu:\n",
        "    tf.config.experimental_connect_to_cluster(tpu)``\n",
        "    tf.tpu.experimental.initialize_tpu_system(tpu)\n",
        "    strategy = tf.distribute.experimental.TPUStrategy(tpu)\n",
        "else:\n",
        "    strategy = tf.distribute.get_strategy() # default distribution strategy in Tensorflow. Works on CPU and single GPU.\n",
        "print(\"REPLICAS: \", strategy.num_replicas_in_sync)    "
      ],
      "metadata": {
        "colab": {
          "base_uri": "https://localhost:8080/"
        },
        "id": "mTDT0JYFd3IU",
        "outputId": "02c25be2-7bba-4970-a62c-c6ac58ca9fd1"
      },
      "execution_count": null,
      "outputs": [
        {
          "output_type": "stream",
          "name": "stdout",
          "text": [
            "REPLICAS:  1\n"
          ]
        }
      ]
    },
    {
      "cell_type": "code",
      "source": [
        "imagePatches = glob('/content/drive/MyDrive/Breast_cancer/IDC_regular_ps50_idx5/**/*.png', recursive=True)\n",
        "for filename in imagePatches[0:10]:\n",
        "    print(filename)"
      ],
      "metadata": {
        "colab": {
          "base_uri": "https://localhost:8080/"
        },
        "id": "BXG33V-wd3Ms",
        "outputId": "d71f93d7-d1c2-4ac0-dad3-f763cd3412d1"
      },
      "execution_count": null,
      "outputs": [
        {
          "output_type": "stream",
          "name": "stdout",
          "text": [
            "/content/drive/MyDrive/Breast_cancer/IDC_regular_ps50_idx5/10253/0/10253_idx5_x951_y701_class0.png\n",
            "/content/drive/MyDrive/Breast_cancer/IDC_regular_ps50_idx5/10253/0/10253_idx5_x1351_y1151_class0.png\n",
            "/content/drive/MyDrive/Breast_cancer/IDC_regular_ps50_idx5/10253/0/10253_idx5_x1551_y601_class0.png\n",
            "/content/drive/MyDrive/Breast_cancer/IDC_regular_ps50_idx5/10253/0/10253_idx5_x1901_y1101_class0.png\n",
            "/content/drive/MyDrive/Breast_cancer/IDC_regular_ps50_idx5/10253/0/10253_idx5_x451_y651_class0.png\n",
            "/content/drive/MyDrive/Breast_cancer/IDC_regular_ps50_idx5/10253/0/10253_idx5_x551_y751_class0.png\n",
            "/content/drive/MyDrive/Breast_cancer/IDC_regular_ps50_idx5/10253/0/10253_idx5_x1501_y601_class0.png\n",
            "/content/drive/MyDrive/Breast_cancer/IDC_regular_ps50_idx5/10253/0/10253_idx5_x1001_y701_class0.png\n",
            "/content/drive/MyDrive/Breast_cancer/IDC_regular_ps50_idx5/10253/0/10253_idx5_x1251_y601_class0.png\n",
            "/content/drive/MyDrive/Breast_cancer/IDC_regular_ps50_idx5/10253/0/10253_idx5_x1001_y1351_class0.png\n"
          ]
        }
      ]
    },
    {
      "cell_type": "code",
      "source": [
        "# Two arrays holding images by class type\n",
        "\n",
        "class0 = [] # 0 = no cancer\n",
        "class1 = [] # 1 = cancer\n",
        "\n",
        "for filename in imagePatches:\n",
        "    if filename.endswith(\"class0.png\"):\n",
        "         class0.append(filename)\n",
        "    else:\n",
        "        class1.append(filename)"
      ],
      "metadata": {
        "id": "lKzR4NW6d3P7"
      },
      "execution_count": null,
      "outputs": []
    },
    {
      "cell_type": "code",
      "source": [
        "len(class1)"
      ],
      "metadata": {
        "colab": {
          "base_uri": "https://localhost:8080/"
        },
        "id": "RGTh58O1d3UE",
        "outputId": "24569f2c-6fb2-4c1b-9e84-1cdc91c75377"
      },
      "execution_count": null,
      "outputs": [
        {
          "output_type": "execute_result",
          "data": {
            "text/plain": [
              "1965"
            ]
          },
          "metadata": {},
          "execution_count": 8
        }
      ]
    },
    {
      "cell_type": "code",
      "source": [
        "sampled_class0 = random.sample(class0, 1965)\n",
        "sampled_class1 = random.sample(class1, 1965)\n",
        "len(sampled_class0)"
      ],
      "metadata": {
        "colab": {
          "base_uri": "https://localhost:8080/"
        },
        "id": "JsSyzlSOd3XM",
        "outputId": "cd93a0f8-1c23-4e46-aa12-c14a4f46db94"
      },
      "execution_count": null,
      "outputs": [
        {
          "output_type": "execute_result",
          "data": {
            "text/plain": [
              "1965"
            ]
          },
          "metadata": {},
          "execution_count": 10
        }
      ]
    },
    {
      "cell_type": "code",
      "source": [
        "from matplotlib.image import imread\n",
        "import cv2\n",
        "\n",
        "def get_image_arrays(data, label):\n",
        "    img_arrays = []\n",
        "    for i in data:\n",
        "        if i.endswith('.png'):\n",
        "            img = cv2.imread(i ,cv2.IMREAD_COLOR)\n",
        "            img_sized = cv2.resize(img, (70, 70), interpolation=cv2.INTER_LINEAR)\n",
        "            img_arrays.append([img_sized, label])\n",
        "    return img_arrays"
      ],
      "metadata": {
        "id": "zhGmNE63d3ZO"
      },
      "execution_count": null,
      "outputs": []
    },
    {
      "cell_type": "code",
      "source": [
        "class0_array = get_image_arrays(sampled_class0, 0)\n",
        "class1_array = get_image_arrays(sampled_class1, 1)"
      ],
      "metadata": {
        "id": "YwSznTjyd3bH"
      },
      "execution_count": null,
      "outputs": []
    },
    {
      "cell_type": "code",
      "source": [
        "class0_array[1]"
      ],
      "metadata": {
        "colab": {
          "base_uri": "https://localhost:8080/"
        },
        "id": "JsrfaeR7d3dW",
        "outputId": "26a2191a-9509-4fa4-f5a0-1fe9d4da6207"
      },
      "execution_count": null,
      "outputs": [
        {
          "output_type": "execute_result",
          "data": {
            "text/plain": [
              "[array([[[167, 125, 224],\n",
              "         [159, 116, 221],\n",
              "         [154, 110, 221],\n",
              "         ...,\n",
              "         [175, 138, 205],\n",
              "         [181, 144, 207],\n",
              "         [180, 140, 200]],\n",
              " \n",
              "        [[162, 120, 221],\n",
              "         [165, 125, 222],\n",
              "         [165, 124, 222],\n",
              "         ...,\n",
              "         [164, 119, 161],\n",
              "         [175, 134, 178],\n",
              "         [190, 157, 209]],\n",
              " \n",
              "        [[156, 113, 218],\n",
              "         [167, 128, 222],\n",
              "         [172, 133, 223],\n",
              "         ...,\n",
              "         [167, 122, 150],\n",
              "         [176, 135, 171],\n",
              "         [192, 159, 212]],\n",
              " \n",
              "        ...,\n",
              " \n",
              "        [[166, 125, 222],\n",
              "         [168, 124, 219],\n",
              "         [173, 129, 217],\n",
              "         ...,\n",
              "         [174, 132, 225],\n",
              "         [170, 127, 224],\n",
              "         [168, 124, 222]],\n",
              " \n",
              "        [[168, 129, 221],\n",
              "         [168, 127, 222],\n",
              "         [170, 128, 223],\n",
              "         ...,\n",
              "         [174, 133, 222],\n",
              "         [172, 130, 222],\n",
              "         [169, 126, 221]],\n",
              " \n",
              "        [[169, 130, 218],\n",
              "         [167, 128, 222],\n",
              "         [166, 125, 225],\n",
              "         ...,\n",
              "         [173, 130, 217],\n",
              "         [174, 130, 219],\n",
              "         [172, 128, 218]]], dtype=uint8),\n",
              " 0]"
            ]
          },
          "metadata": {},
          "execution_count": 13
        }
      ]
    },
    {
      "cell_type": "code",
      "source": [
        "test = cv2.imread('/content/drive/MyDrive/Breast_cancer/IDC_regular_ps50_idx5/13689/1/13689_idx5_x801_y1501_class1.png' ,cv2.IMREAD_COLOR)\n",
        "# test.shape()"
      ],
      "metadata": {
        "id": "PMrkSHBUd3fo"
      },
      "execution_count": null,
      "outputs": []
    },
    {
      "cell_type": "code",
      "source": [
        "combined_data = np.concatenate((class0_array, class1_array))\n",
        "random.seed(41)\n",
        "random.shuffle(combined_data)"
      ],
      "metadata": {
        "colab": {
          "base_uri": "https://localhost:8080/"
        },
        "id": "-fXSWBv7d3ih",
        "outputId": "015dbcdf-e743-4686-c11b-dc2bf15ac6b7"
      },
      "execution_count": null,
      "outputs": [
        {
          "output_type": "stream",
          "name": "stderr",
          "text": [
            "<__array_function__ internals>:180: VisibleDeprecationWarning: Creating an ndarray from ragged nested sequences (which is a list-or-tuple of lists-or-tuples-or ndarrays with different lengths or shapes) is deprecated. If you meant to do this, you must specify 'dtype=object' when creating the ndarray.\n"
          ]
        }
      ]
    },
    {
      "cell_type": "code",
      "source": [
        "X = []\n",
        "y = []\n",
        "\n",
        "for features,label in combined_data:\n",
        "    X.append(features)\n",
        "    y.append(label)"
      ],
      "metadata": {
        "id": "Cbi8wgqBd3lQ"
      },
      "execution_count": null,
      "outputs": []
    },
    {
      "cell_type": "code",
      "source": [
        "# print(X[11].reshape(-1, 50, 50, 3))\n",
        "# reshape X data\n",
        "X = np.array(X).reshape(-1, 70, 70, 3)"
      ],
      "metadata": {
        "id": "tFPqw1zCd3p9"
      },
      "execution_count": null,
      "outputs": []
    },
    {
      "cell_type": "code",
      "source": [
        "X.shape"
      ],
      "metadata": {
        "colab": {
          "base_uri": "https://localhost:8080/"
        },
        "id": "N5nQSGb0d3tT",
        "outputId": "39abc3a2-8639-43d4-d8dc-61f00607645f"
      },
      "execution_count": null,
      "outputs": [
        {
          "output_type": "execute_result",
          "data": {
            "text/plain": [
              "(3930, 70, 70, 3)"
            ]
          },
          "metadata": {},
          "execution_count": 21
        }
      ]
    },
    {
      "cell_type": "code",
      "source": [
        "X_train, X_test, y_train, y_test = train_test_split(X, y, test_size=0.30, random_state=42)\n",
        "y_train = to_categorical(y_train)\n",
        "y_test = to_categorical(y_test)\n",
        "print(X_train.shape, X_test.shape, y_train.shape, y_test.shape)"
      ],
      "metadata": {
        "colab": {
          "base_uri": "https://localhost:8080/"
        },
        "id": "tiJgpcyad3vM",
        "outputId": "03ac6f6b-282a-471b-aee7-9be4e2fd9df4"
      },
      "execution_count": null,
      "outputs": [
        {
          "output_type": "stream",
          "name": "stdout",
          "text": [
            "(2751, 70, 70, 3) (1179, 70, 70, 3) (2751, 2) (1179, 2)\n"
          ]
        }
      ]
    },
    {
      "cell_type": "code",
      "source": [
        "from tensorflow.keras.applications import DenseNet201"
      ],
      "metadata": {
        "id": "dm1n1xlMd3xc"
      },
      "execution_count": null,
      "outputs": []
    },
    {
      "cell_type": "code",
      "source": [
        "base_model = tf.keras.applications.DenseNet201(input_shape=(70,70,3),include_top=False,weights=\"imagenet\")"
      ],
      "metadata": {
        "colab": {
          "base_uri": "https://localhost:8080/"
        },
        "id": "XW2ja5ojfP_f",
        "outputId": "4455f25d-7dfb-4c0d-dba9-30766770d9f2"
      },
      "execution_count": null,
      "outputs": [
        {
          "output_type": "stream",
          "name": "stdout",
          "text": [
            "Downloading data from https://storage.googleapis.com/tensorflow/keras-applications/densenet/densenet201_weights_tf_dim_ordering_tf_kernels_notop.h5\n",
            "74836368/74836368 [==============================] - 1s 0us/step\n"
          ]
        }
      ]
    },
    {
      "cell_type": "code",
      "source": [
        "# Freezing Layers\n",
        "\n",
        "for layer in base_model.layers[:-5]:\n",
        "    layer.trainable=False"
      ],
      "metadata": {
        "id": "bvWOtf19fQB_"
      },
      "execution_count": null,
      "outputs": []
    },
    {
      "cell_type": "code",
      "source": [
        "# Building Model\n",
        "from keras.layers import Dense, Dropout, Activation, Flatten, BatchNormalization, Conv2D, MaxPool2D, MaxPooling2D,RepeatVector\n",
        "\n",
        "model=Sequential()\n",
        "model.add(base_model)\n",
        "model.add(Dropout(0.4))\n",
        "\n",
        "model.add(Flatten())\n",
        "model.add(RepeatVector(2))\n",
        "model.add(Flatten())\n",
        "model.add(Dense(2,activation='softmax'))"
      ],
      "metadata": {
        "id": "exk43vcPfQFU"
      },
      "execution_count": null,
      "outputs": []
    },
    {
      "cell_type": "code",
      "source": [
        "# Model Summary\n",
        "\n",
        "model.summary()"
      ],
      "metadata": {
        "colab": {
          "base_uri": "https://localhost:8080/"
        },
        "id": "NxCuTkT-gmFM",
        "outputId": "2675a0a4-47f0-48dd-887d-480823be0a87"
      },
      "execution_count": null,
      "outputs": [
        {
          "output_type": "stream",
          "name": "stdout",
          "text": [
            "Model: \"sequential\"\n",
            "_________________________________________________________________\n",
            " Layer (type)                Output Shape              Param #   \n",
            "=================================================================\n",
            " densenet201 (Functional)    (None, 2, 2, 1920)        18321984  \n",
            "                                                                 \n",
            " dropout (Dropout)           (None, 2, 2, 1920)        0         \n",
            "                                                                 \n",
            " flatten (Flatten)           (None, 7680)              0         \n",
            "                                                                 \n",
            " repeat_vector (RepeatVector  (None, 2, 7680)          0         \n",
            " )                                                               \n",
            "                                                                 \n",
            " flatten_1 (Flatten)         (None, 15360)             0         \n",
            "                                                                 \n",
            " dense (Dense)               (None, 2)                 30722     \n",
            "                                                                 \n",
            "=================================================================\n",
            "Total params: 18,352,706\n",
            "Trainable params: 71,426\n",
            "Non-trainable params: 18,281,280\n",
            "_________________________________________________________________\n"
          ]
        }
      ]
    },
    {
      "cell_type": "code",
      "source": [
        "from tensorflow.keras.utils import plot_model\n",
        "from IPython.display import Image\n",
        "plot_model(model, to_file='convnet.png', show_shapes=True,show_layer_names=True)\n",
        "Image(filename='convnet.png') "
      ],
      "metadata": {
        "colab": {
          "base_uri": "https://localhost:8080/",
          "height": 754
        },
        "id": "bCsOxjExgmHP",
        "outputId": "37dab15d-aa14-4ccc-f19f-3e95064be4b7"
      },
      "execution_count": null,
      "outputs": [
        {
          "output_type": "execute_result",
          "data": {
            "image/png": "[encoded data removed]",
            "text/plain": [
              "<IPython.core.display.Image object>"
            ]
          },
          "metadata": {},
          "execution_count": 28
        }
      ]
    },
    {
      "cell_type": "code",
      "source": [
        "def f1_score(y_true, y_pred): #taken from old keras source code\n",
        "    true_positives = K.sum(K.round(K.clip(y_true * y_pred, 0, 1)))\n",
        "    possible_positives = K.sum(K.round(K.clip(y_true, 0, 1)))\n",
        "    predicted_positives = K.sum(K.round(K.clip(y_pred, 0, 1)))\n",
        "    precision = true_positives / (predicted_positives + K.epsilon())\n",
        "    recall = true_positives / (possible_positives + K.epsilon())\n",
        "    f1_val = 2*(precision*recall)/(precision+recall+K.epsilon())\n",
        "    return f1_val\n"
      ],
      "metadata": {
        "id": "U2uneW2cgmJF"
      },
      "execution_count": null,
      "outputs": []
    },
    {
      "cell_type": "code",
      "source": [
        "METRICS = [\n",
        "      tf.keras.metrics.BinaryAccuracy(name='accuracy'),\n",
        "      tf.keras.metrics.Precision(name='precision'),\n",
        "      tf.keras.metrics.Recall(name='recall'),  \n",
        "      tf.keras.metrics.AUC(name='auc'),\n",
        "        f1_score,\n",
        "]"
      ],
      "metadata": {
        "id": "hd-c7bS6gmLE"
      },
      "execution_count": null,
      "outputs": []
    },
    {
      "cell_type": "code",
      "source": [
        "lrd = ReduceLROnPlateau(monitor = 'val_loss',patience = 5,verbose = 1,factor = 0.75, min_lr = 1e-10)\n",
        "\n",
        "mcp = ModelCheckpoint('model.h5')\n",
        "\n",
        "es = EarlyStopping(verbose=1, patience=5)"
      ],
      "metadata": {
        "id": "YCdpoFz_gmNT"
      },
      "execution_count": null,
      "outputs": []
    },
    {
      "cell_type": "code",
      "source": [
        "model.compile(optimizer='Adam', loss='binary_crossentropy',metrics=METRICS)"
      ],
      "metadata": {
        "id": "5Zf4YJ1agmQ4"
      },
      "execution_count": null,
      "outputs": []
    },
    {
      "cell_type": "code",
      "source": [
        "%time\n",
        "history=model.fit(X_train, y_train,validation_data=(X_test, y_test),verbose = 1,epochs = 12,callbacks=[lrd,mcp,es])"
      ],
      "metadata": {
        "colab": {
          "base_uri": "https://localhost:8080/"
        },
        "id": "SCUNBlHNg4aT",
        "outputId": "b3925cc3-6833-4ca0-e8ae-e8adac16ba0b"
      },
      "execution_count": null,
      "outputs": [
        {
          "output_type": "stream",
          "name": "stdout",
          "text": [
            "CPU times: user 3 µs, sys: 1 µs, total: 4 µs\n",
            "Wall time: 7.87 µs\n",
            "Epoch 1/12\n",
            "86/86 [==============================] - 156s 1s/step - loss: 0.3832 - accuracy: 0.8688 - precision: 0.8688 - recall: 0.8688 - auc: 0.9348 - f1_score: 0.8688 - val_loss: 0.5814 - val_accuracy: 0.8541 - val_precision: 0.8541 - val_recall: 0.8541 - val_auc: 0.9017 - val_f1_score: 0.8541 - lr: 0.0010\n",
            "Epoch 2/12\n",
            "86/86 [==============================] - 100s 1s/step - loss: 0.3122 - accuracy: 0.8953 - precision: 0.8953 - recall: 0.8953 - auc: 0.9466 - f1_score: 0.8953 - val_loss: 0.4436 - val_accuracy: 0.8838 - val_precision: 0.8838 - val_recall: 0.8838 - val_auc: 0.9220 - val_f1_score: 0.8837 - lr: 0.0010\n",
            "Epoch 3/12\n",
            "86/86 [==============================] - 110s 1s/step - loss: 0.2545 - accuracy: 0.9037 - precision: 0.9037 - recall: 0.9037 - auc: 0.9605 - f1_score: 0.9037 - val_loss: 0.3260 - val_accuracy: 0.8914 - val_precision: 0.8914 - val_recall: 0.8914 - val_auc: 0.9453 - val_f1_score: 0.8913 - lr: 0.0010\n",
            "Epoch 4/12\n",
            "86/86 [==============================] - 113s 1s/step - loss: 0.2308 - accuracy: 0.9109 - precision: 0.9109 - recall: 0.9109 - auc: 0.9655 - f1_score: 0.9109 - val_loss: 0.2287 - val_accuracy: 0.9169 - val_precision: 0.9169 - val_recall: 0.9169 - val_auc: 0.9669 - val_f1_score: 0.9168 - lr: 0.0010\n",
            "Epoch 5/12\n",
            "86/86 [==============================] - 109s 1s/step - loss: 0.2372 - accuracy: 0.9102 - precision: 0.9102 - recall: 0.9102 - auc: 0.9635 - f1_score: 0.9102 - val_loss: 0.2222 - val_accuracy: 0.9152 - val_precision: 0.9152 - val_recall: 0.9152 - val_auc: 0.9689 - val_f1_score: 0.9146 - lr: 0.0010\n",
            "Epoch 6/12\n",
            "86/86 [==============================] - 110s 1s/step - loss: 0.2608 - accuracy: 0.9113 - precision: 0.9113 - recall: 0.9113 - auc: 0.9607 - f1_score: 0.9113 - val_loss: 0.3569 - val_accuracy: 0.9092 - val_precision: 0.9092 - val_recall: 0.9092 - val_auc: 0.9440 - val_f1_score: 0.9090 - lr: 0.0010\n",
            "Epoch 7/12\n",
            "86/86 [==============================] - 109s 1s/step - loss: 0.2421 - accuracy: 0.9099 - precision: 0.9099 - recall: 0.9099 - auc: 0.9626 - f1_score: 0.9098 - val_loss: 0.2338 - val_accuracy: 0.9050 - val_precision: 0.9050 - val_recall: 0.9050 - val_auc: 0.9649 - val_f1_score: 0.9045 - lr: 0.0010\n",
            "Epoch 8/12\n",
            "86/86 [==============================] - 97s 1s/step - loss: 0.2654 - accuracy: 0.9051 - precision: 0.9051 - recall: 0.9051 - auc: 0.9573 - f1_score: 0.9051 - val_loss: 0.2517 - val_accuracy: 0.9211 - val_precision: 0.9211 - val_recall: 0.9211 - val_auc: 0.9627 - val_f1_score: 0.9208 - lr: 0.0010\n",
            "Epoch 9/12\n",
            "86/86 [==============================] - 96s 1s/step - loss: 0.2103 - accuracy: 0.9208 - precision: 0.9208 - recall: 0.9208 - auc: 0.9693 - f1_score: 0.9208 - val_loss: 0.3165 - val_accuracy: 0.9126 - val_precision: 0.9126 - val_recall: 0.9126 - val_auc: 0.9562 - val_f1_score: 0.9122 - lr: 0.0010\n",
            "Epoch 10/12\n",
            "86/86 [==============================] - ETA: 0s - loss: 0.2136 - accuracy: 0.9222 - precision: 0.9222 - recall: 0.9222 - auc: 0.9674 - f1_score: 0.9222\n",
            "Epoch 10: ReduceLROnPlateau reducing learning rate to 0.0007500000356230885.\n",
            "86/86 [==============================] - 111s 1s/step - loss: 0.2136 - accuracy: 0.9222 - precision: 0.9222 - recall: 0.9222 - auc: 0.9674 - f1_score: 0.9222 - val_loss: 0.2929 - val_accuracy: 0.9101 - val_precision: 0.9101 - val_recall: 0.9101 - val_auc: 0.9540 - val_f1_score: 0.9097 - lr: 0.0010\n",
            "Epoch 10: early stopping\n"
          ]
        }
      ]
    },
    {
      "cell_type": "code",
      "source": [
        "model.save('/content/drive/MyDrive/Breast_Cancer_models/densemodel.h5')"
      ],
      "metadata": {
        "id": "-Y_Xp7kXjOMO"
      },
      "execution_count": null,
      "outputs": []
    },
    {
      "cell_type": "code",
      "source": [
        "#plot the accuracy graph\n",
        "plt.figure(figsize = (12,6))\n",
        "plt.subplot(2,1,1)\n",
        "plt.plot(history.history['accuracy'], label=\"train_acc\")\n",
        "plt.plot(history.history['val_accuracy'], label = \"test_acc\")\n",
        "plt.legend()\n",
        "plt.subplot(2,1,2)\n",
        "plt.plot(history.history['loss'], label = \"train_loss\")\n",
        "plt.plot(history.history['loss'], label = \"val_loss\")\n",
        "plt.legend()"
      ],
      "metadata": {
        "colab": {
          "base_uri": "https://localhost:8080/",
          "height": 539
        },
        "id": "Ujstdy7Yg4cv",
        "outputId": "9608ec79-0231-4816-9013-1c40ed432cf4"
      },
      "execution_count": null,
      "outputs": [
        {
          "output_type": "execute_result",
          "data": {
            "text/plain": [
              "<matplotlib.legend.Legend at 0x7f5c683ec4f0>"
            ]
          },
          "metadata": {},
          "execution_count": 35
        },
        {
          "output_type": "display_data",
          "data": {
            "text/plain": [
              "<Figure size 1200x600 with 2 Axes>"
            ],
            "image/png": "[encoded data removed]"
          },
          "metadata": {}
        }
      ]
    },
    {
      "cell_type": "code",
      "source": [
        "from sklearn.metrics import confusion_matrix\n",
        "import seaborn as sns\n",
        "\n",
        "Y_pred = model.predict(X_test)\n",
        "Y_pred_classes = np.argmax(Y_pred,axis = 1) \n",
        "Y_true = np.argmax(y_test,axis = 1) \n",
        "\n",
        "confusion_mtx = confusion_matrix(Y_true, Y_pred_classes) \n",
        "\n",
        "f,ax = plt.subplots(figsize=(8, 8))\n",
        "sns.heatmap(confusion_mtx, annot=True, linewidths=0.01,cmap=\"OrRd\",linecolor=\"black\", fmt= '.1f',ax=ax)\n",
        "plt.xlabel(\"Predicted Label\")\n",
        "plt.ylabel(\"True Label\")\n",
        "plt.title(\"Confusion Matrix\")\n",
        "plt.show()"
      ],
      "metadata": {
        "colab": {
          "base_uri": "https://localhost:8080/",
          "height": 735
        },
        "id": "2h1pwX45g4fb",
        "outputId": "387dbbb8-4f55-4cd0-cab4-7146dc007735"
      },
      "execution_count": null,
      "outputs": [
        {
          "output_type": "stream",
          "name": "stdout",
          "text": [
            "37/37 [==============================] - 32s 725ms/step\n"
          ]
        },
        {
          "output_type": "display_data",
          "data": {
            "text/plain": [
              "<Figure size 800x800 with 2 Axes>"
            ],
            "image/png": "[encoded data removed]"
          },
          "metadata": {}
        }
      ]
    },
    {
      "cell_type": "code",
      "source": [
        "from sklearn.metrics import classification_report\n",
        "\n",
        "print(classification_report(Y_true, Y_pred_classes))"
      ],
      "metadata": {
        "colab": {
          "base_uri": "https://localhost:8080/"
        },
        "id": "lsY0T23fg4h6",
        "outputId": "8b6bafac-04a3-4dee-838d-4ec41eb047e0"
      },
      "execution_count": null,
      "outputs": [
        {
          "output_type": "stream",
          "name": "stdout",
          "text": [
            "              precision    recall  f1-score   support\n",
            "\n",
            "           0       0.92      0.98      0.95       991\n",
            "           1       0.82      0.56      0.66       188\n",
            "\n",
            "    accuracy                           0.91      1179\n",
            "   macro avg       0.87      0.77      0.81      1179\n",
            "weighted avg       0.90      0.91      0.90      1179\n",
            "\n"
          ]
        }
      ]
    },
    {
      "cell_type": "code",
      "source": [],
      "metadata": {
        "id": "YBnTWSTQytFE"
      },
      "execution_count": null,
      "outputs": []
    },
    {
      "cell_type": "code",
      "execution_count": null,
      "metadata": {
        "id": "TCJ2rgNg7Fzi"
      },
      "outputs": [],
      "source": [
        "import numpy as np\n",
        "import pandas as pd\n",
        "import os\n",
        "import matplotlib.pyplot as plt\n",
        "import tensorflow as tf\n",
        "\n",
        "from tensorflow.keras.utils import to_categorical\n",
        "from tensorflow.keras.preprocessing.image import load_img, img_to_array\n",
        "from tensorflow.keras.preprocessing.image import ImageDataGenerator\n",
        "\n",
        "from sklearn.metrics import classification_report, log_loss, accuracy_score\n",
        "from sklearn.model_selection import train_test_split\n",
        "from tqdm import tqdm\n",
        "import random"
      ]
    },
    {
      "cell_type": "code",
      "source": [
        "data_dir = '/content/drive/MyDrive/Breast_cancer/'"
      ],
      "metadata": {
        "id": "1ODvzK32aucH"
      },
      "execution_count": null,
      "outputs": []
    },
    {
      "cell_type": "code",
      "source": [
        "IDS=[]\n",
        "for ids in os.listdir(data_dir):\n",
        "    if ids != 'IDC_regular_ps50_idx5':\n",
        "        IDS+=[ids]\n",
        "print(IDS)\n",
        "print(len(IDS))"
      ],
      "metadata": {
        "colab": {
          "base_uri": "https://localhost:8080/"
        },
        "id": "sYpkgqowauYy",
        "outputId": "0246409f-31f5-41df-e550-4e1e7592f7c2"
      },
      "execution_count": null,
      "outputs": [
        {
          "output_type": "stream",
          "name": "stdout",
          "text": [
            "['10253', '10254', '10255', '10256', '10257', '10258', '10259', '10260', '10261', '10262', '10264', '10268', '10269', '10272', '10273', '10274', '10275', '10276', '10277', '10278', '10279', '10282', '10285', '10286', '10288', '10290', '10291', '10292', '10293', '10295', '10299', '10300', '10301', '10302', '10303', '10304', '10305', '10306', '10307', '10308', '12241', '12242', '12626', '12748', '12749', '12750', '12751', '12752', '12810', '12811', '12817', '12818', '12819', '12820', '12821', '12822', '12823', '12824', '12826', '12867', '12868', '12869', '12870', '12871', '12872', '12873', '12875', '12876', '12877', '12878', '12879', '12880', '12881', '12882', '12883', '12884', '12886', '12890', '12891', '12892', '12893', '12894', '12895', '12896', '12897', '12898', '12900', '12901', '12905', '12906', '12907', '12908', '12909', '12910', '12911', '12929', '12930', '12931', '12932', '12933', '12934', '12935', '12947', '12948', '12949', '12951', '12954', '12955', '13018', '13019', '13020', '13021', '13022', '13023', '13024', '13025', '13106', '13400', '13401', '13402', '13403', '13404', '13458', '13459', '13460', '13461', '13462', '13591', '13613', '13616', '13617', '13666', '13687', '13688', '13689', '13691', '13692', '13693', '13694', '13916', '14078', '14079', '14081', '14082', '14153', '14154', '14155', '14156', '14157', '14188', '14189', '14190', '14191', '14192', '14209', '14210', '14211', '14212', '14213', '14304', '14305', '14306', '14321', '15471', '15472', '15473', '15510', '15512', '15513', '15514', '15515', '15516', '15632', '15633', '15634', '15839', '15840', '15902', '15903', '16014', '16085', '16165', '16166', '16167', '16531', '16532', '16533', '16534', '16550', '16551', '16552', '16553', '16554', '16555', '16568', '16569', '16570', '16895', '16896', '8863', '8864', '8865', '8867', '8913', '8914', '8916', '8917', '8918', '8950', '8951', '8955', '8956', '8957', '8959', '8974', '8975', '8980', '8984', '9022', '9023', '9029', '9035', '9036', '9037', '9041', '9043', '9044', '9073', '9075', '9076', '9077', '9078', '9081', '9083', '9123', '9124', '9125', '9126', '9135', '9173', '9174', '9175', '9176', '9177', '9178', '9181', '9225', '9226', '9227', '9228', '9250', '9254', '9255', '9256', '9257', '9258', '9259', '9260', '9261', '9262', '9265', '9266', '9267', '9290', '9291', '9319', '9320', '9321', '9322', '9323', '9324', '9325', '9344', '9345', '9346', '9347', '9381', '9382', '9383']\n",
            "279\n"
          ]
        }
      ]
    },
    {
      "cell_type": "code",
      "source": [
        "Name=['non-IDC','IDC']\n",
        "Fname=['0','1']"
      ],
      "metadata": {
        "id": "t93llEzKauWJ"
      },
      "execution_count": null,
      "outputs": []
    },
    {
      "cell_type": "code",
      "source": [
        "N=[]\n",
        "for i in range(len(Name)):\n",
        "    N+=[i]\n",
        "    \n",
        "normal_mapping=dict(zip(Name,N)) \n",
        "reverse_mapping=dict(zip(N,Name)) \n",
        "\n",
        "def mapper(value):\n",
        "    return reverse_mapping[value]"
      ],
      "metadata": {
        "id": "7MSVCD_nauTz"
      },
      "execution_count": null,
      "outputs": []
    },
    {
      "cell_type": "code",
      "source": [
        "image=load_img(\"/content/drive/MyDrive/Breast_cancer/10254/1/10254_idx5_x1651_y1001_class0.png\",target_size=(70,70))\n",
        "image=img_to_array(image) \n",
        "image=image/255.0\n",
        "prediction_image=np.array(image)\n",
        "prediction_image= np.expand_dims(image, axis=0)"
      ],
      "metadata": {
        "id": "w0peDY1audzG"
      },
      "execution_count": null,
      "outputs": []
    },
    {
      "cell_type": "code",
      "source": [
        "prediction=model.predict(prediction_image)\n",
        "value=np.argmax(prediction)\n",
        "move_name=mapper(value)\n",
        "print(\"Prediction is {}.\".format(move_name))"
      ],
      "metadata": {
        "colab": {
          "base_uri": "https://localhost:8080/"
        },
        "id": "zYp-zPvyudwQ",
        "outputId": "733f709f-2710-4346-bf81-403ba722b978"
      },
      "execution_count": null,
      "outputs": [
        {
          "output_type": "stream",
          "name": "stdout",
          "text": [
            "1/1 [==============================] - 0s 85ms/step\n",
            "Prediction is non-IDC.\n"
          ]
        }
      ]
    },
    {
      "cell_type": "markdown",
      "source": [
        "The input image dosen't contain cnacer and is predicted as non cancer."
      ],
      "metadata": {
        "id": "Oaw-2JbylCUj"
      }
    },
    {
      "cell_type": "code",
      "source": [
        "pred2=model.predict(X_test)\n",
        "\n",
        "\n",
        "PRED=[]\n",
        "for item in pred2:\n",
        "    value2=np.argmax(item)      \n",
        "    PRED+=[value2]"
      ],
      "metadata": {
        "colab": {
          "base_uri": "https://localhost:8080/"
        },
        "id": "wRMRLYjdudts",
        "outputId": "52221ebc-7b42-4a62-aceb-63ecc6e98c85"
      },
      "execution_count": null,
      "outputs": [
        {
          "output_type": "stream",
          "name": "stdout",
          "text": [
            "37/37 [==============================] - 28s 735ms/step\n"
          ]
        }
      ]
    }
  ]
}